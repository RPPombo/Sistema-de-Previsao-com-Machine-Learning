{
 "cells": [
  {
   "cell_type": "markdown",
   "id": "65b52d9b",
   "metadata": {},
   "source": [
    "# Introdução\n",
    "Após a análise exploratória feita no outro arquivo, será feito o Machine Learning com os dados e conclusões obtidas."
   ]
  },
  {
   "cell_type": "markdown",
   "id": "8551353a",
   "metadata": {},
   "source": [
    "# 1. Carregamento de Dataset\n",
    "Utilizaremos os mesmos métodos de carregamento do arquivo de análise exploratória"
   ]
  },
  {
   "cell_type": "markdown",
   "id": "4a05a6bd",
   "metadata": {},
   "source": [
    "## a) Utilizar a API do Kaggle"
   ]
  },
  {
   "cell_type": "code",
   "execution_count": null,
   "id": "183ec659",
   "metadata": {},
   "outputs": [],
   "source": [
    "# Parte para baixar o arquivo utilizando a API do Kaggle\n",
    "import kagglehub\n",
    "\n",
    "# Baixando o arquivo\n",
    "caminho = kagglehub.dataset_download(\"khushikyad001/electric-vehicle-analytics-dataset\")\n",
    "\n",
    "print(\"Caminho para o dataset:\", caminho)"
   ]
  },
  {
   "cell_type": "markdown",
   "id": "8daab6de",
   "metadata": {},
   "source": [
    "## b) Utilizar arquivo .csv já baixado"
   ]
  },
  {
   "cell_type": "code",
   "execution_count": null,
   "id": "a3cc4f28",
   "metadata": {},
   "outputs": [],
   "source": [
    "# Parte para utilizar o arquivo já baixado\n",
    "import os\n",
    "\n",
    "# Começando o caminho vazio\n",
    "caminho = None\n",
    "\n",
    "# Procurando o arquivo no diretório atual\n",
    "arquivos = os.listdir(\".\")\n",
    "for arquivo in arquivos:\n",
    "    if arquivo == \"electric_vehicle_analytics.csv\":\n",
    "        caminho = os.path.join(\".\",arquivo)\n",
    "        break\n",
    "\n",
    "if caminho:\n",
    "    print(\"Caminho para o dataset:\", caminho)\n",
    "else:\n",
    "    print(\"Dataset não encontrado!\")"
   ]
  },
  {
   "cell_type": "markdown",
   "id": "528bcdc2",
   "metadata": {},
   "source": [
    "# 2. Pré-tratamento de dados\n",
    "Nesta parte será retirada a coluna de ID de veículos, por não ser útil para a IA e também as variáveis categóricas serão tratadas para que possam ser utilizadas pela IA. Por último os dados serão separados entre teste e treino."
   ]
  },
  {
   "cell_type": "code",
   "execution_count": null,
   "id": "190569ba",
   "metadata": {},
   "outputs": [],
   "source": [
    "import pandas as pd\n",
    "from datetime import datetime\n",
    "from sklearn.preprocessing import LabelEncoder\n",
    "from sklearn.model_selection import train_test_split\n",
    "\n",
    "# Carregando o Dataset\n",
    "df = pd.read_csv(caminho)\n",
    "\n",
    "# Definindo a coluna de saída\n",
    "TARGET_COL = \"Resale_Value_USD\"\n",
    "\n",
    "# Retirando a coluna de ID\n",
    "df = df.drop(columns=\"Vehicle_ID\")\n",
    "\n",
    "# Tratando o Ano do carro como a sua \"idade\"\n",
    "ano_atual = datetime.now().year\n",
    "df[\"Idade\"] = ano_atual - df[\"Year\"]\n",
    "df = df.drop(\"Year\", axis= 1)\n",
    "\n",
    "# Tratando as variáveis categóricas\n",
    "le_Make = LabelEncoder()\n",
    "le_Model = LabelEncoder()\n",
    "le_Region = LabelEncoder()\n",
    "le_Vehicle_Type = LabelEncoder()\n",
    "le_Usage_Type = LabelEncoder()\n",
    "\n",
    "# Codificando as variáveis categóricas\n",
    "df[\"Make\"] = le_Make.fit_transform(df[\"Make\"])\n",
    "df[\"Model\"] = le_Model.fit_transform(df[\"Model\"])\n",
    "df[\"Region\"] = le_Region.fit_transform(df[\"Region\"])\n",
    "df[\"Vehicle_Type\"] = le_Vehicle_Type.fit_transform(df[\"Vehicle_Type\"])\n",
    "df[\"Usage_Type\"] = le_Usage_Type.fit_transform(df[\"Usage_Type\"])\n",
    "\n",
    "# Separando as entradas e saída\n",
    "X = df.drop[TARGET_COL]\n",
    "y = df[TARGET_COL]\n",
    "\n",
    "# Separado os dados\n",
    "X_train, X_test, y_train, y_test = train_test_split(X, y, test_size=0.3, random_state=100)"
   ]
  },
  {
   "cell_type": "markdown",
   "id": "a7444d91",
   "metadata": {},
   "source": [
    "# 3. Criação da IA\n",
    "Nesta parte serão criados 3 modelos diferentes de ensemble para no final o desempenho de cada um ser comparado e decidir qual é o melhor."
   ]
  },
  {
   "cell_type": "code",
   "execution_count": null,
   "id": "c069a294",
   "metadata": {},
   "outputs": [],
   "source": [
    "import numpy as np\n",
    "from scipy.stats import randint\n",
    "from sklearn.ensemble import GradientBoostingRegressor, RandomForestRegressor, BaggingRegressor\n",
    "from sklearn.metrics import mean_squared_error\n",
    "from sklearn.model_selection import RandomizedSearchCV\n",
    "\n",
    "# Aleatorizando parâmetros para o RandomizedSearch\n",
    "gb_param = {\n",
    "\n",
    "}\n",
    "\n",
    "rf_param = {\n",
    "\n",
    "}\n",
    "\n",
    "bg_param = {\n",
    "\n",
    "}\n",
    "\n",
    "# Selecionando os modelos\n",
    "gb = GradientBoostingRegressor()\n",
    "rf = RandomForestRegressor()\n",
    "bg = BaggingRegressor()\n",
    "\n",
    "# Fazendo a RandomizedSearch\n",
    "gb_search = RandomizedSearchCV(gb, gb_param, n_iter=20, scoring=\"neg_mean_squared_error\", cv=3, random_state=100, verbose=2)\n",
    "rf_search = RandomizedSearchCV(rf, rf_param, n_iter=20, scoring=\"neg_mean_squared_error\", cv=3, random_state=100, verbose=2)\n",
    "bg_search = RandomizedSearchCV(bg, bg_param, n_iter=20, scoring=\"neg_mean_squared_error\", cv=3, random_state=100, verbose=2)"
   ]
  },
  {
   "cell_type": "code",
   "execution_count": null,
   "id": "a01bcf61",
   "metadata": {},
   "outputs": [],
   "source": [
    "# Mostrando as pontuações\n",
    "print(\"----------//----------\")\n",
    "print(f\"Melhor Gradient Boosting: {gb_search.best_estimator_}\")\n",
    "print(f\"Pontuação: {gb_search.best_score_}\")\n",
    "print(\"----------//----------\")\n",
    "print(f\"Melhor Random Forest: {rf_search.best_estimator_}\")\n",
    "print(f\"Pontuação: {rf_search.best_score_}\")\n",
    "print(\"----------//----------\")\n",
    "print(f\"Melhor Bagging: {bg_search.best_estimator_}\")\n",
    "print(f\"Pontuação: {bg_search.best_score_}\")"
   ]
  }
 ],
 "metadata": {
  "kernelspec": {
   "display_name": "anaconda-toolbox",
   "language": "python",
   "name": "python3"
  },
  "language_info": {
   "name": "python",
   "version": "3.13.5"
  }
 },
 "nbformat": 4,
 "nbformat_minor": 5
}
