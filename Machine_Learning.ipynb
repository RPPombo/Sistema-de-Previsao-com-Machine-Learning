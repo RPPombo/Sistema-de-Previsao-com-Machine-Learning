{
 "cells": [
  {
   "cell_type": "markdown",
   "id": "65b52d9b",
   "metadata": {},
   "source": [
    "# Introdução\n",
    "Após a análise exploratória feita no outro arquivo, será feito o Machine Learning com os dados e conclusões obtidas."
   ]
  },
  {
   "cell_type": "markdown",
   "id": "8551353a",
   "metadata": {},
   "source": [
    "# 1. Carregamento de Dataset\n",
    "Utilizaremos os mesmos métodos de carregamento do arquivo de análise exploratória"
   ]
  },
  {
   "cell_type": "markdown",
   "id": "4a05a6bd",
   "metadata": {},
   "source": [
    "## a) Utilizar a API do Kaggle"
   ]
  },
  {
   "cell_type": "code",
   "execution_count": null,
   "id": "183ec659",
   "metadata": {
    "vscode": {
     "languageId": "plaintext"
    }
   },
   "outputs": [],
   "source": [
    "# Parte para baixar o arquivo utilizando a API do Kaggle\n",
    "import kagglehub\n",
    "\n",
    "# Baixando o arquivo\n",
    "caminho = kagglehub.dataset_download(\"khushikyad001/electric-vehicle-analytics-dataset\")\n",
    "\n",
    "print(\"Caminho para o dataset:\", caminho)"
   ]
  },
  {
   "cell_type": "markdown",
   "id": "8daab6de",
   "metadata": {},
   "source": [
    "## b) Utilizar arquivo .csv já baixado"
   ]
  },
  {
   "cell_type": "code",
   "execution_count": null,
   "id": "a3cc4f28",
   "metadata": {
    "vscode": {
     "languageId": "plaintext"
    }
   },
   "outputs": [],
   "source": [
    "# Parte para utilizar o arquivo já baixado\n",
    "import os\n",
    "\n",
    "# Começando o caminho vazio\n",
    "caminho = None\n",
    "\n",
    "# Procurando o arquivo no diretório atual\n",
    "arquivos = os.listdir(\".\")\n",
    "for arquivo in arquivos:\n",
    "    if arquivo == \"electric_vehicle_analytics.csv\":\n",
    "        caminho = os.path.join(\".\",arquivo)\n",
    "        break\n",
    "\n",
    "if caminho:\n",
    "    print(\"Caminho para o dataset:\", caminho)\n",
    "else:\n",
    "    print(\"Dataset não encontrado!\")"
   ]
  },
  {
   "cell_type": "markdown",
   "id": "528bcdc2",
   "metadata": {},
   "source": [
    "# 2. Pré-tratamento de dados\n",
    "Nesta parte será retirada a coluna de ID de veículos, por não ser útil para a IA e também as variáveis categóricas serão tratadas para que possam ser utilizadas pela IA. Por último os dados serão separados entre teste e treino."
   ]
  },
  {
   "cell_type": "code",
   "execution_count": null,
   "id": "190569ba",
   "metadata": {
    "vscode": {
     "languageId": "plaintext"
    }
   },
   "outputs": [],
   "source": []
  }
 ],
 "metadata": {
  "language_info": {
   "name": "python"
  }
 },
 "nbformat": 4,
 "nbformat_minor": 5
}
