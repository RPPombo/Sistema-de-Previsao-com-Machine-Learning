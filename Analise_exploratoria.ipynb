{
 "cells": [
  {
   "cell_type": "markdown",
   "id": "2d649fc8",
   "metadata": {},
   "source": [
    "# Introdução\n",
    "A princípio será feito uma análise exploratória do dataset utilizado, após isso em outro arquivo será realizado um Machine Learning com os dados\n",
    "\n",
    "## 1. Dataset\n",
    "O dataset utilizado será o arquivo .csv neste repositório. O arquivo foi originado do site de competições e datasets de Machine Learning, Kaggle.  \n",
    "\n",
    "[Link para o dataset](https://www.kaggle.com/datasets/khushikyad001/electric-vehicle-analytics-dataset)\n",
    "\n",
    "O dataset contém informações sobre a performance de carros elétricos de variadas marcas. O dataset foi feito de forma sintética para representação de dados reais."
   ]
  },
  {
   "cell_type": "code",
   "execution_count": null,
   "id": "3d66125b",
   "metadata": {},
   "outputs": [],
   "source": [
    "# Parte opicional para baixar o arquivo utilizando a API do Kaggle\n",
    "import kagglehub\n",
    "\n",
    "# Baixando o arquivo\n",
    "path = kagglehub.dataset_download(\"khushikyad001/electric-vehicle-analytics-dataset\")\n",
    "\n",
    "print(\"Path to dataset files:\", path)"
   ]
  }
 ],
 "metadata": {
  "kernelspec": {
   "display_name": "base",
   "language": "python",
   "name": "python3"
  },
  "language_info": {
   "codemirror_mode": {
    "name": "ipython",
    "version": 3
   },
   "file_extension": ".py",
   "mimetype": "text/x-python",
   "name": "python",
   "nbconvert_exporter": "python",
   "pygments_lexer": "ipython3",
   "version": "3.13.5"
  }
 },
 "nbformat": 4,
 "nbformat_minor": 5
}
